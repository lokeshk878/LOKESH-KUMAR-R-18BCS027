{
 "cells": [
  {
   "cell_type": "code",
   "execution_count": 20,
   "metadata": {},
   "outputs": [],
   "source": [
    "import pandas as pd\n",
    "import numpy as np\n",
    "import warnings\n",
    "warnings.filterwarnings('ignore')"
   ]
  },
  {
   "cell_type": "code",
   "execution_count": 21,
   "metadata": {},
   "outputs": [
    {
     "data": {
      "text/html": [
       "<div>\n",
       "<style scoped>\n",
       "    .dataframe tbody tr th:only-of-type {\n",
       "        vertical-align: middle;\n",
       "    }\n",
       "\n",
       "    .dataframe tbody tr th {\n",
       "        vertical-align: top;\n",
       "    }\n",
       "\n",
       "    .dataframe thead th {\n",
       "        text-align: right;\n",
       "    }\n",
       "</style>\n",
       "<table border=\"1\" class=\"dataframe\">\n",
       "  <thead>\n",
       "    <tr style=\"text-align: right;\">\n",
       "      <th></th>\n",
       "      <th>battery_power</th>\n",
       "      <th>blue</th>\n",
       "      <th>clock_speed</th>\n",
       "      <th>dual_sim</th>\n",
       "      <th>fc</th>\n",
       "      <th>four_g</th>\n",
       "      <th>int_memory</th>\n",
       "      <th>m_dep</th>\n",
       "      <th>mobile_wt</th>\n",
       "      <th>n_cores</th>\n",
       "      <th>...</th>\n",
       "      <th>px_height</th>\n",
       "      <th>px_width</th>\n",
       "      <th>ram</th>\n",
       "      <th>sc_h</th>\n",
       "      <th>sc_w</th>\n",
       "      <th>talk_time</th>\n",
       "      <th>three_g</th>\n",
       "      <th>touch_screen</th>\n",
       "      <th>wifi</th>\n",
       "      <th>price_range</th>\n",
       "    </tr>\n",
       "  </thead>\n",
       "  <tbody>\n",
       "    <tr>\n",
       "      <th>1995</th>\n",
       "      <td>794</td>\n",
       "      <td>1</td>\n",
       "      <td>0.5</td>\n",
       "      <td>1</td>\n",
       "      <td>0</td>\n",
       "      <td>1</td>\n",
       "      <td>2</td>\n",
       "      <td>0.8</td>\n",
       "      <td>106</td>\n",
       "      <td>6</td>\n",
       "      <td>...</td>\n",
       "      <td>1222</td>\n",
       "      <td>1890</td>\n",
       "      <td>668</td>\n",
       "      <td>13</td>\n",
       "      <td>4</td>\n",
       "      <td>19</td>\n",
       "      <td>1</td>\n",
       "      <td>1</td>\n",
       "      <td>0</td>\n",
       "      <td>0</td>\n",
       "    </tr>\n",
       "    <tr>\n",
       "      <th>1996</th>\n",
       "      <td>1965</td>\n",
       "      <td>1</td>\n",
       "      <td>2.6</td>\n",
       "      <td>1</td>\n",
       "      <td>0</td>\n",
       "      <td>0</td>\n",
       "      <td>39</td>\n",
       "      <td>0.2</td>\n",
       "      <td>187</td>\n",
       "      <td>4</td>\n",
       "      <td>...</td>\n",
       "      <td>915</td>\n",
       "      <td>1965</td>\n",
       "      <td>2032</td>\n",
       "      <td>11</td>\n",
       "      <td>10</td>\n",
       "      <td>16</td>\n",
       "      <td>1</td>\n",
       "      <td>1</td>\n",
       "      <td>1</td>\n",
       "      <td>2</td>\n",
       "    </tr>\n",
       "    <tr>\n",
       "      <th>1997</th>\n",
       "      <td>1911</td>\n",
       "      <td>0</td>\n",
       "      <td>0.9</td>\n",
       "      <td>1</td>\n",
       "      <td>1</td>\n",
       "      <td>1</td>\n",
       "      <td>36</td>\n",
       "      <td>0.7</td>\n",
       "      <td>108</td>\n",
       "      <td>8</td>\n",
       "      <td>...</td>\n",
       "      <td>868</td>\n",
       "      <td>1632</td>\n",
       "      <td>3057</td>\n",
       "      <td>9</td>\n",
       "      <td>1</td>\n",
       "      <td>5</td>\n",
       "      <td>1</td>\n",
       "      <td>1</td>\n",
       "      <td>0</td>\n",
       "      <td>3</td>\n",
       "    </tr>\n",
       "    <tr>\n",
       "      <th>1998</th>\n",
       "      <td>1512</td>\n",
       "      <td>0</td>\n",
       "      <td>0.9</td>\n",
       "      <td>0</td>\n",
       "      <td>4</td>\n",
       "      <td>1</td>\n",
       "      <td>46</td>\n",
       "      <td>0.1</td>\n",
       "      <td>145</td>\n",
       "      <td>5</td>\n",
       "      <td>...</td>\n",
       "      <td>336</td>\n",
       "      <td>670</td>\n",
       "      <td>869</td>\n",
       "      <td>18</td>\n",
       "      <td>10</td>\n",
       "      <td>19</td>\n",
       "      <td>1</td>\n",
       "      <td>1</td>\n",
       "      <td>1</td>\n",
       "      <td>0</td>\n",
       "    </tr>\n",
       "    <tr>\n",
       "      <th>1999</th>\n",
       "      <td>510</td>\n",
       "      <td>1</td>\n",
       "      <td>2.0</td>\n",
       "      <td>1</td>\n",
       "      <td>5</td>\n",
       "      <td>1</td>\n",
       "      <td>45</td>\n",
       "      <td>0.9</td>\n",
       "      <td>168</td>\n",
       "      <td>6</td>\n",
       "      <td>...</td>\n",
       "      <td>483</td>\n",
       "      <td>754</td>\n",
       "      <td>3919</td>\n",
       "      <td>19</td>\n",
       "      <td>4</td>\n",
       "      <td>2</td>\n",
       "      <td>1</td>\n",
       "      <td>1</td>\n",
       "      <td>1</td>\n",
       "      <td>3</td>\n",
       "    </tr>\n",
       "  </tbody>\n",
       "</table>\n",
       "<p>5 rows × 21 columns</p>\n",
       "</div>"
      ],
      "text/plain": [
       "      battery_power  blue  clock_speed  dual_sim  fc  four_g  int_memory  \\\n",
       "1995            794     1          0.5         1   0       1           2   \n",
       "1996           1965     1          2.6         1   0       0          39   \n",
       "1997           1911     0          0.9         1   1       1          36   \n",
       "1998           1512     0          0.9         0   4       1          46   \n",
       "1999            510     1          2.0         1   5       1          45   \n",
       "\n",
       "      m_dep  mobile_wt  n_cores  ...  px_height  px_width   ram  sc_h  sc_w  \\\n",
       "1995    0.8        106        6  ...       1222      1890   668    13     4   \n",
       "1996    0.2        187        4  ...        915      1965  2032    11    10   \n",
       "1997    0.7        108        8  ...        868      1632  3057     9     1   \n",
       "1998    0.1        145        5  ...        336       670   869    18    10   \n",
       "1999    0.9        168        6  ...        483       754  3919    19     4   \n",
       "\n",
       "      talk_time  three_g  touch_screen  wifi  price_range  \n",
       "1995         19        1             1     0            0  \n",
       "1996         16        1             1     1            2  \n",
       "1997          5        1             1     0            3  \n",
       "1998         19        1             1     1            0  \n",
       "1999          2        1             1     1            3  \n",
       "\n",
       "[5 rows x 21 columns]"
      ]
     },
     "execution_count": 21,
     "metadata": {},
     "output_type": "execute_result"
    }
   ],
   "source": [
    "df=pd.read_csv(\"train.csv\")\n",
    "df.tail()"
   ]
  },
  {
   "cell_type": "code",
   "execution_count": 22,
   "metadata": {},
   "outputs": [
    {
     "data": {
      "text/plain": [
       "Index(['battery_power', 'blue', 'clock_speed', 'dual_sim', 'fc', 'four_g',\n",
       "       'int_memory', 'm_dep', 'mobile_wt', 'n_cores', 'pc', 'px_height',\n",
       "       'px_width', 'ram', 'sc_h', 'sc_w', 'talk_time', 'three_g',\n",
       "       'touch_screen', 'wifi', 'price_range'],\n",
       "      dtype='object')"
      ]
     },
     "execution_count": 22,
     "metadata": {},
     "output_type": "execute_result"
    }
   ],
   "source": [
    "df.columns"
   ]
  },
  {
   "cell_type": "code",
   "execution_count": 23,
   "metadata": {},
   "outputs": [
    {
     "data": {
      "text/plain": [
       "battery_power      int64\n",
       "blue               int64\n",
       "clock_speed      float64\n",
       "dual_sim           int64\n",
       "fc                 int64\n",
       "four_g             int64\n",
       "int_memory         int64\n",
       "m_dep            float64\n",
       "mobile_wt          int64\n",
       "n_cores            int64\n",
       "pc                 int64\n",
       "px_height          int64\n",
       "px_width           int64\n",
       "ram                int64\n",
       "sc_h               int64\n",
       "sc_w               int64\n",
       "talk_time          int64\n",
       "three_g            int64\n",
       "touch_screen       int64\n",
       "wifi               int64\n",
       "price_range        int64\n",
       "dtype: object"
      ]
     },
     "execution_count": 23,
     "metadata": {},
     "output_type": "execute_result"
    }
   ],
   "source": [
    "df.dtypes"
   ]
  },
  {
   "cell_type": "code",
   "execution_count": 24,
   "metadata": {},
   "outputs": [
    {
     "data": {
      "text/plain": [
       "(2000, 21)"
      ]
     },
     "execution_count": 24,
     "metadata": {},
     "output_type": "execute_result"
    }
   ],
   "source": [
    "df.shape"
   ]
  },
  {
   "cell_type": "code",
   "execution_count": 25,
   "metadata": {},
   "outputs": [],
   "source": [
    "X=df.drop(\"fc\",axis=1)\n",
    "y=df[[\"fc\"]]"
   ]
  },
  {
   "cell_type": "code",
   "execution_count": 26,
   "metadata": {},
   "outputs": [],
   "source": [
    "from sklearn.model_selection import train_test_split\n",
    "X_train, X_test, y_train, y_test = train_test_split(X, y, test_size = 0.25, random_state = 1)"
   ]
  },
  {
   "cell_type": "code",
   "execution_count": 27,
   "metadata": {},
   "outputs": [
    {
     "data": {
      "text/plain": [
       "GaussianNB()"
      ]
     },
     "execution_count": 27,
     "metadata": {},
     "output_type": "execute_result"
    }
   ],
   "source": [
    "from sklearn.naive_bayes import GaussianNB\n",
    "classifier = GaussianNB()\n",
    "classifier.fit(X_train, y_train)"
   ]
  },
  {
   "cell_type": "code",
   "execution_count": 28,
   "metadata": {},
   "outputs": [],
   "source": [
    "y_pred = classifier.predict(X_test)"
   ]
  },
  {
   "cell_type": "code",
   "execution_count": 29,
   "metadata": {},
   "outputs": [
    {
     "data": {
      "text/plain": [
       "array([ 0,  0,  0,  0,  1,  5,  0, 10,  0, 18, 13,  0,  0,  0,  2, 12,  1,\n",
       "        0, 11,  9,  1, 15, 10,  0,  0,  3,  2,  4,  0,  0, 10,  0,  0,  0,\n",
       "        0,  4,  1,  6,  2,  0,  0,  6,  0,  6,  0,  0,  2,  0,  8, 10,  0,\n",
       "        0,  6,  0,  0, 18,  1,  0,  3,  1,  0,  1,  9,  7, 10, 12,  6,  0,\n",
       "        3,  0,  0,  1,  0,  4,  9,  7,  9,  0,  2,  0,  1,  0,  0,  0,  0,\n",
       "        0,  9,  0,  6,  6, 18, 12,  0,  0,  6,  7,  1,  0,  9,  3,  0,  0,\n",
       "       13,  3,  1,  0,  6,  6,  5,  0,  1, 15,  9,  0, 12,  3,  0,  3,  4,\n",
       "       12,  9,  1, 16,  6,  3, 12,  0,  0,  9, 18,  0, 18,  0,  0,  1,  0,\n",
       "        0, 12, 12, 13,  1,  0, 15,  0,  7,  2,  0,  0, 10,  0,  9,  3, 13,\n",
       "        0,  6,  0, 18, 16, 10, 18,  3, 13,  0, 15,  1,  0, 10,  0,  4,  2,\n",
       "        0,  0,  0,  0, 12,  4,  0,  7,  0,  0,  6, 15,  0,  0, 10,  0,  4,\n",
       "       14,  7, 16,  0,  0,  0,  1,  0, 18,  9,  3,  1, 11,  0,  0, 14,  1,\n",
       "       10,  0,  2,  0,  0,  0, 13, 15, 13,  0, 14,  1,  0,  5,  4,  0, 18,\n",
       "        0, 10,  0,  1, 17,  3,  0,  0, 18,  0,  0,  3, 11,  3,  0,  0,  4,\n",
       "        0,  0, 11,  7,  8,  8,  6,  0,  0, 12,  0,  0,  9,  0,  0,  4,  0,\n",
       "        0,  0,  9,  0,  0,  1,  0,  0,  0,  1,  0,  0,  0,  0,  2,  5,  0,\n",
       "        0, 18,  4,  8,  0, 12,  4,  0,  0,  0,  0,  3, 18,  1,  6,  1,  0,\n",
       "        7,  4,  1,  0,  0,  0,  0, 18,  7,  7,  0,  0,  8, 18,  0,  2,  2,\n",
       "       13,  3,  0,  0, 18,  1,  0,  5,  0, 13, 11, 16, 18, 14,  2,  0,  0,\n",
       "        0, 10,  0,  0, 14, 15,  1,  8,  1,  6, 18,  0,  0,  0,  0,  0, 15,\n",
       "       15, 11, 13, 10,  0,  0,  3,  0,  8,  8,  0,  7,  0,  0,  9,  0, 10,\n",
       "        1,  1,  0,  3,  0,  1,  0,  0, 13, 15,  4,  0, 16,  9,  7,  2,  0,\n",
       "        0, 14,  0,  0,  0,  7, 16,  3,  8,  8, 11,  0, 11,  0,  0,  0,  8,\n",
       "        0,  0,  6,  0,  5,  0,  3,  0,  0,  0,  7,  0, 12, 14,  0,  0,  0,\n",
       "        0,  0,  0, 12,  5,  1,  2,  2,  0,  0,  0, 18,  0,  5,  0,  7,  9,\n",
       "       18,  9,  2,  2,  1,  8,  0,  1,  1,  0,  9, 13,  3,  0,  6,  6,  4,\n",
       "       13,  9,  5,  0, 13,  1,  1,  0,  0,  0,  0,  1, 12,  0, 15,  7,  0,\n",
       "        0, 16, 10,  0,  0,  6,  3,  0, 18,  6, 13,  0,  0,  0,  0, 12,  9,\n",
       "       10, 10,  4,  1,  0, 10,  0,  0,  0,  0,  8,  5,  0,  0,  2, 18,  3,\n",
       "        0, 10,  7,  0,  0,  9,  1])"
      ]
     },
     "execution_count": 29,
     "metadata": {},
     "output_type": "execute_result"
    }
   ],
   "source": [
    "y_pred  "
   ]
  },
  {
   "cell_type": "code",
   "execution_count": 30,
   "metadata": {},
   "outputs": [
    {
     "data": {
      "text/plain": [
       "array([[88,  6,  4,  4,  2,  1,  3,  2,  0,  1,  3,  0,  1,  1,  1,  0,\n",
       "         2,  0,  0,  0],\n",
       "       [41,  7,  2,  5,  0,  0,  1,  0,  0,  1,  1,  0,  1,  0,  1,  0,\n",
       "         0,  0,  2,  0],\n",
       "       [26,  3,  1,  1,  2,  1,  1,  1,  0,  4,  1,  2,  1,  2,  1,  1,\n",
       "         0,  0,  0,  0],\n",
       "       [14,  4,  2,  2,  2,  1,  5,  0,  1,  0,  1,  0,  1,  0,  0,  1,\n",
       "         1,  0,  0,  0],\n",
       "       [13,  7,  2,  2,  1,  0,  1,  1,  1,  0,  2,  0,  1,  1,  0,  1,\n",
       "         0,  0,  1,  0],\n",
       "       [15,  2,  2,  2,  3,  1,  0,  2,  2,  1,  0,  0,  2,  2,  0,  0,\n",
       "         0,  0,  3,  0],\n",
       "       [ 9,  4,  2,  2,  0,  1,  0,  0,  2,  1,  0,  1,  0,  1,  1,  0,\n",
       "         0,  1,  0,  0],\n",
       "       [ 4,  6,  0,  1,  1,  2,  2,  4,  2,  1,  0,  0,  1,  1,  1,  1,\n",
       "         0,  0,  2,  0],\n",
       "       [ 4,  0,  2,  1,  1,  1,  1,  1,  1,  3,  1,  1,  1,  1,  0,  1,\n",
       "         0,  0,  2,  0],\n",
       "       [ 0,  1,  0,  1,  0,  0,  4,  2,  0,  2,  0,  3,  0,  0,  0,  0,\n",
       "         0,  0,  2,  0],\n",
       "       [ 2,  1,  0,  0,  2,  2,  0,  2,  0,  1,  3,  0,  1,  0,  0,  0,\n",
       "         1,  0,  1,  0],\n",
       "       [ 0,  0,  1,  1,  0,  0,  2,  2,  2,  1,  0,  0,  1,  2,  0,  1,\n",
       "         0,  0,  2,  0],\n",
       "       [ 0,  0,  0,  0,  1,  0,  0,  0,  1,  1,  4,  0,  1,  0,  1,  1,\n",
       "         1,  0,  0,  0],\n",
       "       [ 0,  0,  0,  1,  0,  0,  1,  0,  1,  1,  2,  1,  1,  1,  0,  1,\n",
       "         0,  0,  0,  0],\n",
       "       [ 0,  0,  0,  0,  0,  0,  0,  0,  0,  0,  0,  0,  2,  1,  0,  2,\n",
       "         0,  0,  0,  0],\n",
       "       [ 0,  0,  0,  0,  0,  0,  0,  0,  0,  3,  1,  0,  0,  0,  0,  0,\n",
       "         1,  0,  0,  0],\n",
       "       [ 0,  0,  0,  0,  1,  0,  0,  0,  0,  0,  0,  0,  0,  0,  0,  1,\n",
       "         1,  0,  2,  0],\n",
       "       [ 0,  0,  0,  0,  0,  0,  0,  0,  0,  0,  0,  0,  0,  1,  0,  0,\n",
       "         0,  0,  1,  0],\n",
       "       [ 0,  0,  0,  0,  0,  0,  0,  0,  0,  0,  0,  0,  0,  0,  1,  0,\n",
       "         0,  0,  3,  0],\n",
       "       [ 0,  0,  0,  0,  0,  0,  0,  0,  0,  0,  0,  0,  0,  1,  0,  0,\n",
       "         0,  0,  0,  0]])"
      ]
     },
     "execution_count": 30,
     "metadata": {},
     "output_type": "execute_result"
    }
   ],
   "source": [
    "from sklearn.metrics import confusion_matrix\n",
    "cm = confusion_matrix(y_test, y_pred)\n",
    "cm"
   ]
  },
  {
   "cell_type": "code",
   "execution_count": 31,
   "metadata": {},
   "outputs": [
    {
     "name": "stdout",
     "output_type": "stream",
     "text": [
      "accuracy 0.232\n"
     ]
    }
   ],
   "source": [
    "from sklearn import metrics\n",
    "print(\"accuracy\",metrics.accuracy_score(y_test,y_pred))"
   ]
  },
  {
   "cell_type": "code",
   "execution_count": 32,
   "metadata": {},
   "outputs": [
    {
     "data": {
      "text/plain": [
       "1.0"
      ]
     },
     "execution_count": 32,
     "metadata": {},
     "output_type": "execute_result"
    }
   ],
   "source": [
    "test_pred= classifier.predict(X_test)\n",
    "metrics.accuracy_score(test_pred,y_pred)"
   ]
  },
  {
   "cell_type": "code",
   "execution_count": 33,
   "metadata": {},
   "outputs": [
    {
     "name": "stdout",
     "output_type": "stream",
     "text": [
      "              precision    recall  f1-score   support\n",
      "\n",
      "           0       0.41      0.74      0.53       119\n",
      "           1       0.17      0.11      0.14        62\n",
      "           2       0.06      0.02      0.03        48\n",
      "           3       0.09      0.06      0.07        35\n",
      "           4       0.06      0.03      0.04        34\n",
      "           5       0.10      0.03      0.04        37\n",
      "           6       0.00      0.00      0.00        25\n",
      "           7       0.24      0.14      0.17        29\n",
      "           8       0.08      0.05      0.06        22\n",
      "           9       0.10      0.13      0.11        15\n",
      "          10       0.16      0.19      0.17        16\n",
      "          11       0.00      0.00      0.00        15\n",
      "          12       0.07      0.09      0.08        11\n",
      "          13       0.07      0.10      0.08        10\n",
      "          14       0.00      0.00      0.00         5\n",
      "          15       0.00      0.00      0.00         5\n",
      "          16       0.14      0.20      0.17         5\n",
      "          17       0.00      0.00      0.00         2\n",
      "          18       0.14      0.75      0.24         4\n",
      "          19       0.00      0.00      0.00         1\n",
      "\n",
      "    accuracy                           0.23       500\n",
      "   macro avg       0.09      0.13      0.10       500\n",
      "weighted avg       0.17      0.23      0.18       500\n",
      "\n"
     ]
    }
   ],
   "source": [
    "print(metrics.classification_report(y_test,test_pred))"
   ]
  },
  {
   "cell_type": "code",
   "execution_count": null,
   "metadata": {},
   "outputs": [],
   "source": []
  }
 ],
 "metadata": {
  "kernelspec": {
   "display_name": "Python 3",
   "language": "python",
   "name": "python3"
  },
  "language_info": {
   "codemirror_mode": {
    "name": "ipython",
    "version": 3
   },
   "file_extension": ".py",
   "mimetype": "text/x-python",
   "name": "python",
   "nbconvert_exporter": "python",
   "pygments_lexer": "ipython3",
   "version": "3.8.5"
  }
 },
 "nbformat": 4,
 "nbformat_minor": 4
}
